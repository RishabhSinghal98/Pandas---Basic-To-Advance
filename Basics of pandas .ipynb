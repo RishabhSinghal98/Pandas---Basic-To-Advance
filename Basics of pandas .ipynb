{
 "cells": [
  {
   "cell_type": "code",
   "execution_count": 45,
   "id": "336ff24d-12d1-4aad-bde0-d739d69468d6",
   "metadata": {},
   "outputs": [],
   "source": [
    "import pandas as pd"
   ]
  },
  {
   "cell_type": "code",
   "execution_count": 46,
   "id": "4ab98d77-86a0-4922-baf9-c6a7b4608720",
   "metadata": {},
   "outputs": [],
   "source": [
    "df=pd.read_csv(\"services.csv\")  #used to read all the data from the csv file"
   ]
  },
  {
   "cell_type": "code",
   "execution_count": 47,
   "id": "566d395c-30e5-42ec-b38f-b61d01bd0cae",
   "metadata": {},
   "outputs": [
    {
     "data": {
      "text/plain": [
       "pandas.core.frame.DataFrame"
      ]
     },
     "execution_count": 47,
     "metadata": {},
     "output_type": "execute_result"
    }
   ],
   "source": [
    "type(df) #returns type of type i.e dataframe"
   ]
  },
  {
   "cell_type": "code",
   "execution_count": null,
   "id": "750c77b6-6a03-4069-b546-1e9185d3d3ad",
   "metadata": {},
   "outputs": [],
   "source": [
    "list(df.columns) #reads the columns name and put them into a list"
   ]
  },
  {
   "cell_type": "code",
   "execution_count": null,
   "id": "9c82d583-6ead-4bb5-8ab8-16edd7acb8e3",
   "metadata": {},
   "outputs": [],
   "source": [
    "df.head(5) #returns top 5 data of the sv file"
   ]
  },
  {
   "cell_type": "code",
   "execution_count": null,
   "id": "3eceb2be-f576-4890-b609-1833336fbab8",
   "metadata": {},
   "outputs": [],
   "source": [
    "df.tail(3) #return data of last 3 indexes of csv file"
   ]
  },
  {
   "cell_type": "code",
   "execution_count": null,
   "id": "d93c36bf-ff52-476b-9cb3-1c7ceceb5a12",
   "metadata": {},
   "outputs": [],
   "source": [
    "df.dtypes #returns data type of columns"
   ]
  },
  {
   "cell_type": "code",
   "execution_count": null,
   "id": "cdb582b1-886f-4886-ac46-efea5b894ea5",
   "metadata": {},
   "outputs": [],
   "source": [
    "type(df[\"audience\"]) # returns type of a column i,e series"
   ]
  },
  {
   "cell_type": "code",
   "execution_count": null,
   "id": "98c5ed21-55b5-4e08-ab42-6669c78ee1ac",
   "metadata": {},
   "outputs": [],
   "source": [
    "type(df[[\"status\"]]) #returns the data type as dataframe because we are sending column name as a list"
   ]
  },
  {
   "cell_type": "code",
   "execution_count": null,
   "id": "acb8fed0-ab16-49fe-810c-8516e722ee84",
   "metadata": {},
   "outputs": [],
   "source": [
    "df[[\"status\",\"keywords\"]] #returns data of various columns"
   ]
  },
  {
   "cell_type": "code",
   "execution_count": null,
   "id": "ccfd3dc6-e4e3-497e-a8e1-2570de0e2af4",
   "metadata": {},
   "outputs": [],
   "source": [
    "df.to_csv(\"new.csv\",index=False) #stores the data into a new csv file with no indexes as due to indexes=False"
   ]
  },
  {
   "cell_type": "code",
   "execution_count": null,
   "id": "8b310cf2-9662-4046-ad07-7f193ed82cf0",
   "metadata": {},
   "outputs": [],
   "source": []
  },
  {
   "cell_type": "code",
   "execution_count": null,
   "id": "91e1885e-5382-4e12-a085-0307738e364d",
   "metadata": {},
   "outputs": [],
   "source": [
    "url_data=pd.read_html(\"https://www.basketball-reference.com/friv/playoff_prob.html\") #reads all the table from the url\n"
   ]
  },
  {
   "cell_type": "code",
   "execution_count": null,
   "id": "ebad69ec-f59f-4d36-948f-cffa23cef1c8",
   "metadata": {},
   "outputs": [],
   "source": [
    "len(url_data)  #returns the no of tables"
   ]
  },
  {
   "cell_type": "code",
   "execution_count": null,
   "id": "7f200603-c746-47ed-b7b5-64cef4da047b",
   "metadata": {},
   "outputs": [],
   "source": [
    "url_data[0]  #returns the first table"
   ]
  },
  {
   "cell_type": "code",
   "execution_count": 44,
   "id": "5805794f-b5ca-44d4-af44-9c486fbcd0a9",
   "metadata": {},
   "outputs": [],
   "source": [
    "data_1=url_data[0]"
   ]
  },
  {
   "cell_type": "code",
   "execution_count": null,
   "id": "ad6d1e22-6b3f-4246-92e4-47688bf9c6f3",
   "metadata": {},
   "outputs": [],
   "source": [
    "data_1.to_csv(\"basketball.csv\",index=False) #inserts the data into a new file"
   ]
  },
  {
   "cell_type": "code",
   "execution_count": null,
   "id": "19379b5b-1fe4-475a-baa7-8fc1f7619b10",
   "metadata": {},
   "outputs": [],
   "source": []
  }
 ],
 "metadata": {
  "kernelspec": {
   "display_name": "Python 3 (ipykernel)",
   "language": "python",
   "name": "python3"
  },
  "language_info": {
   "codemirror_mode": {
    "name": "ipython",
    "version": 3
   },
   "file_extension": ".py",
   "mimetype": "text/x-python",
   "name": "python",
   "nbconvert_exporter": "python",
   "pygments_lexer": "ipython3",
   "version": "3.10.8"
  }
 },
 "nbformat": 4,
 "nbformat_minor": 5
}
