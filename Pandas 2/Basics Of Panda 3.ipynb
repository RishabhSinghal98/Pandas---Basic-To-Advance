{
 "cells": [
  {
   "cell_type": "code",
   "execution_count": null,
   "id": "6926bd32-410b-4ae2-a159-ae6a5e605ad6",
   "metadata": {},
   "outputs": [],
   "source": [
    "import pandas as pd\n"
   ]
  },
  {
   "cell_type": "code",
   "execution_count": null,
   "id": "052592ed-8b7e-4a3d-96c4-74919ea88c9c",
   "metadata": {},
   "outputs": [],
   "source": [
    "d2=pd.read_csv(\"https://raw.githubusercontent.com/datasciencedojo/datasets/master/titanic.csv\")"
   ]
  },
  {
   "cell_type": "code",
   "execution_count": null,
   "id": "e4d7ff27-14ab-4b97-9235-cfd283e5205b",
   "metadata": {},
   "outputs": [],
   "source": [
    "l=['a','b','c','d','e','f']"
   ]
  },
  {
   "cell_type": "code",
   "execution_count": null,
   "id": "6f271f95-5e54-451a-b541-f096c38ae6c2",
   "metadata": {},
   "outputs": [],
   "source": [
    "pd.Series(l)   #converts the list into series"
   ]
  },
  {
   "cell_type": "code",
   "execution_count": null,
   "id": "e57b9132-0d2a-4255-abc1-45d12b7ee298",
   "metadata": {},
   "outputs": [],
   "source": [
    "pd.Series(list(d2['Name'][2:6]),index=['a','b','c','d'])   #changes the index from integer to alphabet"
   ]
  },
  {
   "cell_type": "code",
   "execution_count": null,
   "id": "4305da6a-8dd4-48bf-98b9-424c6a839eb9",
   "metadata": {},
   "outputs": [],
   "source": [
    "s=pd.Series(list(d2['Name'][2:6]),index=['a','b','c','d'])   \n",
    "s1=d2['Name'][3:8]"
   ]
  },
  {
   "cell_type": "code",
   "execution_count": null,
   "id": "4eae6b9c-7862-4bf9-a8dc-f11d03efa0d6",
   "metadata": {},
   "outputs": [],
   "source": [
    "s.append(s1)  #adding two data sets"
   ]
  },
  {
   "cell_type": "code",
   "execution_count": null,
   "id": "a563670c-7be0-43e8-9b34-1e27d2945bc8",
   "metadata": {},
   "outputs": [],
   "source": [
    "s1*2   #nothing Happens As We Cannot perform Multiplication"
   ]
  },
  {
   "cell_type": "code",
   "execution_count": null,
   "id": "36d74193-9f62-443d-a8c1-1445364ab7d0",
   "metadata": {},
   "outputs": [],
   "source": [
    "dropped=d2.drop('Name',axis=1)  #by default axix is zero so doing it to 1 and then we can delete the following column and it is deelted only at runtime temprary"
   ]
  },
  {
   "cell_type": "code",
   "execution_count": null,
   "id": "cc658b2c-5d76-4f06-af3d-3c34886a3fc3",
   "metadata": {},
   "outputs": [],
   "source": [
    "dropped"
   ]
  },
  {
   "cell_type": "markdown",
   "id": "8f0e2a7a-c986-442e-95a1-22e3a5cba5d5",
   "metadata": {},
   "source": [
    "##### use inplace=True For permmanent change for all manipulations"
   ]
  },
  {
   "cell_type": "code",
   "execution_count": null,
   "id": "af445ff2-204e-48f6-8614-7f5f507b3139",
   "metadata": {},
   "outputs": [],
   "source": [
    " d2.drop('Pclass',axis=1,inplace=True)  #deletes Permanannetly"
   ]
  },
  {
   "cell_type": "code",
   "execution_count": null,
   "id": "2b8a5c0e-62fa-4a91-9a0e-4b4b4a9a4ad6",
   "metadata": {},
   "outputs": [],
   "source": [
    "d2.drop(0,inplace=True) #deltes the row permannently"
   ]
  },
  {
   "cell_type": "code",
   "execution_count": null,
   "id": "9fdf9952-274a-42c5-aed7-65041411e7eb",
   "metadata": {},
   "outputs": [],
   "source": [
    "d2"
   ]
  },
  {
   "cell_type": "code",
   "execution_count": null,
   "id": "ce8f5c6b-9e78-4d92-a59e-40b237724ddc",
   "metadata": {},
   "outputs": [],
   "source": [
    "d2.head(5)"
   ]
  },
  {
   "cell_type": "code",
   "execution_count": null,
   "id": "6b366581-6de4-4d92-bf77-7aea8caf6188",
   "metadata": {},
   "outputs": [],
   "source": [
    "d2.set_index(\"Name\") #Make Indexex Equal to column name+\"Name\",,,to make it permanent use inplace=True"
   ]
  },
  {
   "cell_type": "code",
   "execution_count": null,
   "id": "a0b1e7dd-f4cd-418c-874d-6e7e86c4b28a",
   "metadata": {},
   "outputs": [],
   "source": [
    "d2"
   ]
  },
  {
   "cell_type": "code",
   "execution_count": null,
   "id": "0cc00287-9ffd-4afd-ba0b-7568a619342b",
   "metadata": {},
   "outputs": [],
   "source": [
    "d2.loc[\"Heikkinen, Miss. Laina\"]"
   ]
  },
  {
   "cell_type": "code",
   "execution_count": null,
   "id": "3b63e331-abf5-4bc7-b0e7-004cb095636d",
   "metadata": {},
   "outputs": [],
   "source": [
    "d2.iloc[7]  #retruns data of particular row and iloc take only integer"
   ]
  },
  {
   "cell_type": "code",
   "execution_count": null,
   "id": "c1d2045d-59b7-44c6-a1ca-648a550efc7b",
   "metadata": {},
   "outputs": [],
   "source": [
    "d2.reset_index()   #reset indeses back to integer"
   ]
  },
  {
   "cell_type": "code",
   "execution_count": null,
   "id": "8443793f-82e0-480b-8f7b-381f8ca4304c",
   "metadata": {},
   "outputs": [],
   "source": [
    "d={'key1':[1,2,3],'key2':[2,3,4]}"
   ]
  },
  {
   "cell_type": "code",
   "execution_count": null,
   "id": "84c64af4-f12d-4bf2-a23e-a70526ddb4a9",
   "metadata": {},
   "outputs": [],
   "source": [
    "pd.DataFrame(d) #make a dataframe out of the dictionary but the length of list inside dict should be same"
   ]
  },
  {
   "cell_type": "code",
   "execution_count": null,
   "id": "d7a6c5e0-b385-4916-93c2-e4c15ef0801f",
   "metadata": {},
   "outputs": [],
   "source": [
    "d2"
   ]
  },
  {
   "cell_type": "code",
   "execution_count": null,
   "id": "cd770c31-752a-4f0d-b2e9-0719bfa29c3d",
   "metadata": {},
   "outputs": [],
   "source": [
    "d2.dropna()    #drops NaN value"
   ]
  },
  {
   "cell_type": "code",
   "execution_count": null,
   "id": "9db8744d-525d-4707-a050-ef7420f34a82",
   "metadata": {},
   "outputs": [],
   "source": [
    "d2.dropna(axis=1) #deletes the column where we have null values"
   ]
  },
  {
   "cell_type": "code",
   "execution_count": null,
   "id": "4d4cf92e-56f1-4fe0-ba98-c65257d9ecd8",
   "metadata": {},
   "outputs": [],
   "source": [
    "d2.fillna('Risbhb')    #relaces Nan Values with The string given if uses inplace=true it will be permananet"
   ]
  },
  {
   "cell_type": "code",
   "execution_count": null,
   "id": "e4f14494-7585-429e-a464-17fb1a8fadd3",
   "metadata": {},
   "outputs": [],
   "source": [
    "d2.groupby('Survived')   #groups the column into similar values"
   ]
  },
  {
   "cell_type": "code",
   "execution_count": null,
   "id": "c7cd1147-5db8-4c4a-962e-2b16848e1168",
   "metadata": {},
   "outputs": [],
   "source": [
    "d2.groupby(\"Survived\").mean() #group the passenger and gives their mean"
   ]
  },
  {
   "cell_type": "code",
   "execution_count": null,
   "id": "03e64a45-a927-4216-b543-831a751f391b",
   "metadata": {},
   "outputs": [],
   "source": [
    "d2.groupby(\"Survived\").sum()  #groups accc. to passenger id and then sums the values of columns"
   ]
  },
  {
   "cell_type": "code",
   "execution_count": null,
   "id": "14458f22-e526-4d1d-ba2f-6c262580feca",
   "metadata": {},
   "outputs": [],
   "source": [
    "d2.groupby(\"Sex\").sum()['Fare']   #returns total fare groupby sex"
   ]
  },
  {
   "cell_type": "code",
   "execution_count": null,
   "id": "15ffd898-9548-4fd5-b94a-8b1cd4a47522",
   "metadata": {},
   "outputs": [],
   "source": [
    "d3=d2.groupby(\"Sex\").mean()"
   ]
  },
  {
   "cell_type": "code",
   "execution_count": null,
   "id": "a8bc8bd2-125f-4939-b9c1-b0da1bd15ad0",
   "metadata": {},
   "outputs": [],
   "source": [
    "d3.T    #rotates the data i.e colums become rows"
   ]
  },
  {
   "cell_type": "code",
   "execution_count": null,
   "id": "b6505f9d-9c91-4cf7-814e-e1fb13fc0bf9",
   "metadata": {},
   "outputs": [],
   "source": [
    "d2.head()"
   ]
  },
  {
   "cell_type": "code",
   "execution_count": null,
   "id": "8a6b8ced-c280-45fb-8c40-2b4044021508",
   "metadata": {},
   "outputs": [],
   "source": [
    "a1=d2[[\"Name\",\"Sex\",\"Fare\"]][0:6]"
   ]
  },
  {
   "cell_type": "code",
   "execution_count": null,
   "id": "a6b209f7-05ed-458c-a89d-18dc7b038b90",
   "metadata": {},
   "outputs": [],
   "source": [
    "a2=d2[[\"Name\",\"Sex\",\"Fare\"]][6:12]"
   ]
  },
  {
   "cell_type": "code",
   "execution_count": null,
   "id": "f9b24a67-4f85-4fbe-a74e-cbe9635705d3",
   "metadata": {},
   "outputs": [],
   "source": [
    "a2 "
   ]
  },
  {
   "cell_type": "code",
   "execution_count": null,
   "id": "46708c0f-6908-4e58-b64b-25e81a4b5fa5",
   "metadata": {},
   "outputs": [],
   "source": [
    "pd.concat([a1,a2])   #add two dataframe into one"
   ]
  },
  {
   "cell_type": "code",
   "execution_count": null,
   "id": "f0873bd9-3dc3-481d-807b-d102fa78b20d",
   "metadata": {},
   "outputs": [],
   "source": [
    "a3=pd.concat([a1,a2],axis=1)  #concate horizontal representation"
   ]
  },
  {
   "cell_type": "code",
   "execution_count": null,
   "id": "d90cb5a2-8c40-463c-9bb4-b7aced94cc8e",
   "metadata": {},
   "outputs": [],
   "source": [
    "a3.fillna(\"he\")"
   ]
  },
  {
   "cell_type": "code",
   "execution_count": null,
   "id": "757555fb-b256-4346-be1f-4f36efaff9c3",
   "metadata": {},
   "outputs": [],
   "source": [
    "di={\"key1\":[1,2,3],\"key2\":[4,5,6]}\n",
    "dii={\"key1\":[1,8,9],\"key4\":[4,1,8]}"
   ]
  },
  {
   "cell_type": "code",
   "execution_count": null,
   "id": "540253c1-5ee0-465c-8a58-da1afac1ae53",
   "metadata": {},
   "outputs": [],
   "source": [
    "data1=pd.DataFrame(di)"
   ]
  },
  {
   "cell_type": "code",
   "execution_count": null,
   "id": "cac41cff-6cfe-4279-a233-dc6610c2d239",
   "metadata": {},
   "outputs": [],
   "source": [
    "data2=pd.DataFrame(dii)"
   ]
  },
  {
   "cell_type": "code",
   "execution_count": null,
   "id": "fb81b706-faaf-4b0e-9cfd-75e8a676a288",
   "metadata": {},
   "outputs": [],
   "source": [
    "data1"
   ]
  },
  {
   "cell_type": "code",
   "execution_count": null,
   "id": "4db8ed29-f6e5-4e25-a333-3cc1de56b95a",
   "metadata": {},
   "outputs": [],
   "source": [
    "data2"
   ]
  },
  {
   "cell_type": "code",
   "execution_count": null,
   "id": "7e68081b-23f5-4f6f-8739-e168937fb780",
   "metadata": {},
   "outputs": [],
   "source": [
    "pd.merge(data1,data2) #merges and return only common values"
   ]
  },
  {
   "cell_type": "code",
   "execution_count": null,
   "id": "25be1921-3412-4516-9bbe-b38306057b55",
   "metadata": {},
   "outputs": [],
   "source": [
    "pd.merge(data1,data2,how=\"outer\") #merges and return all  values from both dataset"
   ]
  },
  {
   "cell_type": "code",
   "execution_count": null,
   "id": "9b586de1-c0a9-48c0-b457-eea683179ac9",
   "metadata": {},
   "outputs": [],
   "source": [
    "d2['Fare_in_Inr']=d2[\"Fare\"].apply(lambda x:x*80) #create a new column and put the fare in rupees as values in that column"
   ]
  },
  {
   "cell_type": "code",
   "execution_count": null,
   "id": "08543650-faa9-426d-953c-9f404ecb01b6",
   "metadata": {},
   "outputs": [],
   "source": [
    "d2"
   ]
  },
  {
   "cell_type": "code",
   "execution_count": null,
   "id": "8d112e1b-ff73-4299-8e50-4ae9fb43f9af",
   "metadata": {},
   "outputs": [],
   "source": [
    "def create_flag(x):\n",
    "    if x<10:\n",
    "        return \"Poor\"\n",
    "    elif x>=10 and x<=20:\n",
    "        return \"Middle Class\"\n",
    "    else:\n",
    "        return \"Rich\""
   ]
  },
  {
   "cell_type": "code",
   "execution_count": null,
   "id": "3f354574-ab96-4823-98d3-7c9af68b4f97",
   "metadata": {},
   "outputs": [],
   "source": [
    "d2['Groups']=d2['Fare'].apply(create_flag)"
   ]
  },
  {
   "cell_type": "code",
   "execution_count": null,
   "id": "977f5e67-faf9-4f2a-9802-835c255c3cb5",
   "metadata": {},
   "outputs": [],
   "source": [
    "d2"
   ]
  },
  {
   "cell_type": "markdown",
   "id": "5a199078-5c7e-4268-a674-947a6399297f",
   "metadata": {},
   "source": [
    "#### Creates an iterator which traverse through the row"
   ]
  },
  {
   "cell_type": "code",
   "execution_count": null,
   "id": "8008012f-06ca-4615-995b-56c6dc0de323",
   "metadata": {},
   "outputs": [],
   "source": [
    "d2.iterrows()  "
   ]
  },
  {
   "cell_type": "code",
   "execution_count": null,
   "id": "3aa7dad4-08e3-48f7-a1fe-b2695ea45074",
   "metadata": {},
   "outputs": [],
   "source": [
    "for i in data2.iterrows():\n",
    "    print(i)"
   ]
  },
  {
   "cell_type": "markdown",
   "id": "9be9edc3-3754-4396-b038-75ca98f4195a",
   "metadata": {},
   "source": [
    "#### Creates an iterator which traverse through the column"
   ]
  },
  {
   "cell_type": "code",
   "execution_count": null,
   "id": "d1b68077-debc-4197-b776-e4bc677c6392",
   "metadata": {},
   "outputs": [],
   "source": [
    "d2.iteritems()"
   ]
  },
  {
   "cell_type": "code",
   "execution_count": null,
   "id": "8287c816-eed6-4870-a5d1-8a43e39488c5",
   "metadata": {},
   "outputs": [],
   "source": [
    "for i in data2.iteritems():\n",
    "    print(i)"
   ]
  },
  {
   "cell_type": "code",
   "execution_count": 23,
   "id": "534ff0ee-5046-48e3-967a-a14c5842bede",
   "metadata": {},
   "outputs": [
    {
     "data": {
      "text/html": [
       "<div>\n",
       "<style scoped>\n",
       "    .dataframe tbody tr th:only-of-type {\n",
       "        vertical-align: middle;\n",
       "    }\n",
       "\n",
       "    .dataframe tbody tr th {\n",
       "        vertical-align: top;\n",
       "    }\n",
       "\n",
       "    .dataframe thead th {\n",
       "        text-align: right;\n",
       "    }\n",
       "</style>\n",
       "<table border=\"1\" class=\"dataframe\">\n",
       "  <thead>\n",
       "    <tr style=\"text-align: right;\">\n",
       "      <th></th>\n",
       "      <th>key1</th>\n",
       "      <th>key4</th>\n",
       "    </tr>\n",
       "  </thead>\n",
       "  <tbody>\n",
       "    <tr>\n",
       "      <th>0</th>\n",
       "      <td>1</td>\n",
       "      <td>4</td>\n",
       "    </tr>\n",
       "    <tr>\n",
       "      <th>1</th>\n",
       "      <td>8</td>\n",
       "      <td>1</td>\n",
       "    </tr>\n",
       "    <tr>\n",
       "      <th>2</th>\n",
       "      <td>9</td>\n",
       "      <td>8</td>\n",
       "    </tr>\n",
       "  </tbody>\n",
       "</table>\n",
       "</div>"
      ],
      "text/plain": [
       "   key1  key4\n",
       "0     1     4\n",
       "1     8     1\n",
       "2     9     8"
      ]
     },
     "execution_count": 23,
     "metadata": {},
     "output_type": "execute_result"
    }
   ],
   "source": [
    "data2"
   ]
  },
  {
   "cell_type": "markdown",
   "id": "c6f3651d-9add-4979-a5e1-fdb5095bbf54",
   "metadata": {},
   "source": [
    "#### Add data of of paricular column"
   ]
  },
  {
   "cell_type": "code",
   "execution_count": 25,
   "id": "f4b26299-6665-4f0f-aacb-b42642cedef1",
   "metadata": {},
   "outputs": [
    {
     "data": {
      "text/plain": [
       "key1    18\n",
       "key4    13\n",
       "dtype: int64"
      ]
     },
     "execution_count": 25,
     "metadata": {},
     "output_type": "execute_result"
    }
   ],
   "source": [
    "def test(x):\n",
    "    return x.sum()\n",
    "data2.apply(test,axis=0)"
   ]
  },
  {
   "cell_type": "markdown",
   "id": "ecdd5c41-3ac1-4403-bdfa-9fb941322dff",
   "metadata": {},
   "source": [
    "#### sums the data row wise and store in front of the index name"
   ]
  },
  {
   "cell_type": "code",
   "execution_count": 29,
   "id": "6525898e-2214-4e5c-ab69-73f810bee2e7",
   "metadata": {},
   "outputs": [
    {
     "data": {
      "text/plain": [
       "0     5\n",
       "1     9\n",
       "2    17\n",
       "dtype: int64"
      ]
     },
     "execution_count": 29,
     "metadata": {},
     "output_type": "execute_result"
    }
   ],
   "source": [
    "data2.apply(lambda x:x.sum(),axis=1)"
   ]
  },
  {
   "cell_type": "markdown",
   "id": "61a2a9f9-fd3b-44e3-b29a-0b883ea436a3",
   "metadata": {},
   "source": [
    "#### Returns the square of everyno column wise apply map works for the whole data so no need to put axis"
   ]
  },
  {
   "cell_type": "code",
   "execution_count": 46,
   "id": "700e8cde-fe2c-4071-b521-54a959fd7b30",
   "metadata": {},
   "outputs": [
    {
     "data": {
      "text/html": [
       "<div>\n",
       "<style scoped>\n",
       "    .dataframe tbody tr th:only-of-type {\n",
       "        vertical-align: middle;\n",
       "    }\n",
       "\n",
       "    .dataframe tbody tr th {\n",
       "        vertical-align: top;\n",
       "    }\n",
       "\n",
       "    .dataframe thead th {\n",
       "        text-align: right;\n",
       "    }\n",
       "</style>\n",
       "<table border=\"1\" class=\"dataframe\">\n",
       "  <thead>\n",
       "    <tr style=\"text-align: right;\">\n",
       "      <th></th>\n",
       "      <th>key1</th>\n",
       "      <th>key4</th>\n",
       "    </tr>\n",
       "  </thead>\n",
       "  <tbody>\n",
       "    <tr>\n",
       "      <th>0</th>\n",
       "      <td>1</td>\n",
       "      <td>16</td>\n",
       "    </tr>\n",
       "    <tr>\n",
       "      <th>1</th>\n",
       "      <td>64</td>\n",
       "      <td>1</td>\n",
       "    </tr>\n",
       "    <tr>\n",
       "      <th>2</th>\n",
       "      <td>81</td>\n",
       "      <td>64</td>\n",
       "    </tr>\n",
       "  </tbody>\n",
       "</table>\n",
       "</div>"
      ],
      "text/plain": [
       "   key1  key4\n",
       "0     1    16\n",
       "1    64     1\n",
       "2    81    64"
      ]
     },
     "execution_count": 46,
     "metadata": {},
     "output_type": "execute_result"
    }
   ],
   "source": [
    "data2.applymap(lambda x:x**2)"
   ]
  },
  {
   "cell_type": "markdown",
   "id": "254b89d2-5a7f-47b1-a753-4a61340c8d57",
   "metadata": {},
   "source": [
    "#### Sorts the data for the particular column in ascending wise and descending wise"
   ]
  },
  {
   "cell_type": "code",
   "execution_count": 59,
   "id": "9d81d14c-3dcf-4524-8515-84ad6396399f",
   "metadata": {},
   "outputs": [],
   "source": [
    "data2.sort_values('key4',inplace=True)"
   ]
  },
  {
   "cell_type": "code",
   "execution_count": 60,
   "id": "30e60ceb-766f-4f77-9125-7b45cbb67913",
   "metadata": {},
   "outputs": [
    {
     "data": {
      "text/html": [
       "<div>\n",
       "<style scoped>\n",
       "    .dataframe tbody tr th:only-of-type {\n",
       "        vertical-align: middle;\n",
       "    }\n",
       "\n",
       "    .dataframe tbody tr th {\n",
       "        vertical-align: top;\n",
       "    }\n",
       "\n",
       "    .dataframe thead th {\n",
       "        text-align: right;\n",
       "    }\n",
       "</style>\n",
       "<table border=\"1\" class=\"dataframe\">\n",
       "  <thead>\n",
       "    <tr style=\"text-align: right;\">\n",
       "      <th></th>\n",
       "      <th>key1</th>\n",
       "      <th>key4</th>\n",
       "    </tr>\n",
       "  </thead>\n",
       "  <tbody>\n",
       "    <tr>\n",
       "      <th>2</th>\n",
       "      <td>9</td>\n",
       "      <td>8</td>\n",
       "    </tr>\n",
       "    <tr>\n",
       "      <th>1</th>\n",
       "      <td>8</td>\n",
       "      <td>1</td>\n",
       "    </tr>\n",
       "    <tr>\n",
       "      <th>0</th>\n",
       "      <td>1</td>\n",
       "      <td>4</td>\n",
       "    </tr>\n",
       "  </tbody>\n",
       "</table>\n",
       "</div>"
      ],
      "text/plain": [
       "   key1  key4\n",
       "2     9     8\n",
       "1     8     1\n",
       "0     1     4"
      ]
     },
     "execution_count": 60,
     "metadata": {},
     "output_type": "execute_result"
    }
   ],
   "source": [
    "data2.sort_values('key1',ascending=False)"
   ]
  },
  {
   "cell_type": "markdown",
   "id": "e051e0b0-01ae-4559-9d12-127e68be73cd",
   "metadata": {},
   "source": [
    "#### Setting the column width so we can see larger data"
   ]
  },
  {
   "cell_type": "code",
   "execution_count": 81,
   "id": "f7e6ceb0-2c34-4a94-9e06-f48e1bef6a14",
   "metadata": {},
   "outputs": [],
   "source": [
    "data3=pd.DataFrame({\"Description\":[\"Stock market illiterate? After this course, not anymore! India has a financial literacy problem. We have been conditioned to invest poorly in schemes that do not help your money grow, while inflation increases prices of everything around us. This series tries to educate you on the stock market and how to understand stock market terminologies, giving you ways to invest your money smartly, and grow your wealth, no matter how small it is. Stock market is not some black hole that your throw money into and lose it forever, With informed decision-making, you can grow your investment,andreduce your risk.\",\"My name is rishabh\"]})"
   ]
  },
  {
   "cell_type": "code",
   "execution_count": 82,
   "id": "bd45b01f-a761-4162-b2da-96a61e86f0ea",
   "metadata": {},
   "outputs": [
    {
     "data": {
      "text/html": [
       "<div>\n",
       "<style scoped>\n",
       "    .dataframe tbody tr th:only-of-type {\n",
       "        vertical-align: middle;\n",
       "    }\n",
       "\n",
       "    .dataframe tbody tr th {\n",
       "        vertical-align: top;\n",
       "    }\n",
       "\n",
       "    .dataframe thead th {\n",
       "        text-align: right;\n",
       "    }\n",
       "</style>\n",
       "<table border=\"1\" class=\"dataframe\">\n",
       "  <thead>\n",
       "    <tr style=\"text-align: right;\">\n",
       "      <th></th>\n",
       "      <th>Description</th>\n",
       "    </tr>\n",
       "  </thead>\n",
       "  <tbody>\n",
       "    <tr>\n",
       "      <th>0</th>\n",
       "      <td>Stock market illiterate? After this course, not anymore! India has a financial literacy problem. We have been conditioned to invest poorly in schemes that do not help your money grow, while inflation increases prices of everything around us. This series tries to educate you on the stock market and how to understand stock market terminologies, giving you ways to invest your money smartly, and grow your wealth, no matter how small it is. Stock market is not some black hole that your throw money into and lose it forever, With informed decision-making, you can grow your investment,andreduce your risk.</td>\n",
       "    </tr>\n",
       "    <tr>\n",
       "      <th>1</th>\n",
       "      <td>My name is rishabh</td>\n",
       "    </tr>\n",
       "  </tbody>\n",
       "</table>\n",
       "</div>"
      ],
      "text/plain": [
       "                                                                                                                                                                                                                                                                                                                                                                                                                                                                                                                                                                                                                    Description\n",
       "0  Stock market illiterate? After this course, not anymore! India has a financial literacy problem. We have been conditioned to invest poorly in schemes that do not help your money grow, while inflation increases prices of everything around us. This series tries to educate you on the stock market and how to understand stock market terminologies, giving you ways to invest your money smartly, and grow your wealth, no matter how small it is. Stock market is not some black hole that your throw money into and lose it forever, With informed decision-making, you can grow your investment,andreduce your risk.\n",
       "1                                                                                                                                                                                                                                                                                                                                                                                                                                                                                                                                                                                                            My name is rishabh"
      ]
     },
     "execution_count": 82,
     "metadata": {},
     "output_type": "execute_result"
    }
   ],
   "source": [
    "data3 # initialyb displays lesss data."
   ]
  },
  {
   "cell_type": "code",
   "execution_count": 83,
   "id": "78aa1a69-2d96-4287-9fe0-3629fdfd6dd4",
   "metadata": {},
   "outputs": [],
   "source": [
    "pd.set_option(\"display.max_colwidth\",20000)  # setted the width to a large no and can see a larger data"
   ]
  },
  {
   "cell_type": "code",
   "execution_count": 84,
   "id": "a24541c4-de31-4ed1-9d64-368de9f80b16",
   "metadata": {},
   "outputs": [
    {
     "data": {
      "text/html": [
       "<div>\n",
       "<style scoped>\n",
       "    .dataframe tbody tr th:only-of-type {\n",
       "        vertical-align: middle;\n",
       "    }\n",
       "\n",
       "    .dataframe tbody tr th {\n",
       "        vertical-align: top;\n",
       "    }\n",
       "\n",
       "    .dataframe thead th {\n",
       "        text-align: right;\n",
       "    }\n",
       "</style>\n",
       "<table border=\"1\" class=\"dataframe\">\n",
       "  <thead>\n",
       "    <tr style=\"text-align: right;\">\n",
       "      <th></th>\n",
       "      <th>Description</th>\n",
       "    </tr>\n",
       "  </thead>\n",
       "  <tbody>\n",
       "    <tr>\n",
       "      <th>0</th>\n",
       "      <td>Stock market illiterate? After this course, not anymore! India has a financial literacy problem. We have been conditioned to invest poorly in schemes that do not help your money grow, while inflation increases prices of everything around us. This series tries to educate you on the stock market and how to understand stock market terminologies, giving you ways to invest your money smartly, and grow your wealth, no matter how small it is. Stock market is not some black hole that your throw money into and lose it forever, With informed decision-making, you can grow your investment,andreduce your risk.</td>\n",
       "    </tr>\n",
       "    <tr>\n",
       "      <th>1</th>\n",
       "      <td>My name is rishabh</td>\n",
       "    </tr>\n",
       "  </tbody>\n",
       "</table>\n",
       "</div>"
      ],
      "text/plain": [
       "                                                                                                                                                                                                                                                                                                                                                                                                                                                                                                                                                                                                                    Description\n",
       "0  Stock market illiterate? After this course, not anymore! India has a financial literacy problem. We have been conditioned to invest poorly in schemes that do not help your money grow, while inflation increases prices of everything around us. This series tries to educate you on the stock market and how to understand stock market terminologies, giving you ways to invest your money smartly, and grow your wealth, no matter how small it is. Stock market is not some black hole that your throw money into and lose it forever, With informed decision-making, you can grow your investment,andreduce your risk.\n",
       "1                                                                                                                                                                                                                                                                                                                                                                                                                                                                                                                                                                                                            My name is rishabh"
      ]
     },
     "execution_count": 84,
     "metadata": {},
     "output_type": "execute_result"
    }
   ],
   "source": [
    "data3"
   ]
  },
  {
   "cell_type": "markdown",
   "id": "a12c1b57-fc0b-4281-901a-43fead27aeab",
   "metadata": {},
   "source": [
    "#### Creates A new column and stores length of data"
   ]
  },
  {
   "cell_type": "code",
   "execution_count": 85,
   "id": "46e9259a-ad9a-41fe-8652-bcdc73024c19",
   "metadata": {},
   "outputs": [],
   "source": [
    "data3['column_length']=data3['Description'].apply(len)"
   ]
  },
  {
   "cell_type": "code",
   "execution_count": 86,
   "id": "7e3edee0-56a2-453e-9771-380293a4c826",
   "metadata": {},
   "outputs": [
    {
     "data": {
      "text/html": [
       "<div>\n",
       "<style scoped>\n",
       "    .dataframe tbody tr th:only-of-type {\n",
       "        vertical-align: middle;\n",
       "    }\n",
       "\n",
       "    .dataframe tbody tr th {\n",
       "        vertical-align: top;\n",
       "    }\n",
       "\n",
       "    .dataframe thead th {\n",
       "        text-align: right;\n",
       "    }\n",
       "</style>\n",
       "<table border=\"1\" class=\"dataframe\">\n",
       "  <thead>\n",
       "    <tr style=\"text-align: right;\">\n",
       "      <th></th>\n",
       "      <th>Description</th>\n",
       "      <th>column_length</th>\n",
       "    </tr>\n",
       "  </thead>\n",
       "  <tbody>\n",
       "    <tr>\n",
       "      <th>0</th>\n",
       "      <td>Stock market illiterate? After this course, not anymore! India has a financial literacy problem. We have been conditioned to invest poorly in schemes that do not help your money grow, while inflation increases prices of everything around us. This series tries to educate you on the stock market and how to understand stock market terminologies, giving you ways to invest your money smartly, and grow your wealth, no matter how small it is. Stock market is not some black hole that your throw money into and lose it forever, With informed decision-making, you can grow your investment,andreduce your risk.</td>\n",
       "      <td>604</td>\n",
       "    </tr>\n",
       "    <tr>\n",
       "      <th>1</th>\n",
       "      <td>My name is rishabh</td>\n",
       "      <td>18</td>\n",
       "    </tr>\n",
       "  </tbody>\n",
       "</table>\n",
       "</div>"
      ],
      "text/plain": [
       "                                                                                                                                                                                                                                                                                                                                                                                                                                                                                                                                                                                                                    Description  \\\n",
       "0  Stock market illiterate? After this course, not anymore! India has a financial literacy problem. We have been conditioned to invest poorly in schemes that do not help your money grow, while inflation increases prices of everything around us. This series tries to educate you on the stock market and how to understand stock market terminologies, giving you ways to invest your money smartly, and grow your wealth, no matter how small it is. Stock market is not some black hole that your throw money into and lose it forever, With informed decision-making, you can grow your investment,andreduce your risk.   \n",
       "1                                                                                                                                                                                                                                                                                                                                                                                                                                                                                                                                                                                                            My name is rishabh   \n",
       "\n",
       "   column_length  \n",
       "0            604  \n",
       "1             18  "
      ]
     },
     "execution_count": 86,
     "metadata": {},
     "output_type": "execute_result"
    }
   ],
   "source": [
    "data3"
   ]
  },
  {
   "cell_type": "markdown",
   "id": "1266c1d8-844d-4ae6-abd6-ed01c13471fd",
   "metadata": {},
   "source": [
    "#### Creates A new column where we can total count of words"
   ]
  },
  {
   "cell_type": "code",
   "execution_count": 87,
   "id": "ab1c9e16-1b3e-46f1-a19a-58b676220e9d",
   "metadata": {},
   "outputs": [],
   "source": [
    "data3['words_count']=data3[\"Description\"].apply(lambda x:len(x.split()))"
   ]
  },
  {
   "cell_type": "code",
   "execution_count": 88,
   "id": "cd38483e-bd41-48ca-9030-77e311df9ba1",
   "metadata": {},
   "outputs": [
    {
     "data": {
      "text/html": [
       "<div>\n",
       "<style scoped>\n",
       "    .dataframe tbody tr th:only-of-type {\n",
       "        vertical-align: middle;\n",
       "    }\n",
       "\n",
       "    .dataframe tbody tr th {\n",
       "        vertical-align: top;\n",
       "    }\n",
       "\n",
       "    .dataframe thead th {\n",
       "        text-align: right;\n",
       "    }\n",
       "</style>\n",
       "<table border=\"1\" class=\"dataframe\">\n",
       "  <thead>\n",
       "    <tr style=\"text-align: right;\">\n",
       "      <th></th>\n",
       "      <th>Description</th>\n",
       "      <th>column_length</th>\n",
       "      <th>words_count</th>\n",
       "    </tr>\n",
       "  </thead>\n",
       "  <tbody>\n",
       "    <tr>\n",
       "      <th>0</th>\n",
       "      <td>Stock market illiterate? After this course, not anymore! India has a financial literacy problem. We have been conditioned to invest poorly in schemes that do not help your money grow, while inflation increases prices of everything around us. This series tries to educate you on the stock market and how to understand stock market terminologies, giving you ways to invest your money smartly, and grow your wealth, no matter how small it is. Stock market is not some black hole that your throw money into and lose it forever, With informed decision-making, you can grow your investment,andreduce your risk.</td>\n",
       "      <td>604</td>\n",
       "      <td>99</td>\n",
       "    </tr>\n",
       "    <tr>\n",
       "      <th>1</th>\n",
       "      <td>My name is rishabh</td>\n",
       "      <td>18</td>\n",
       "      <td>4</td>\n",
       "    </tr>\n",
       "  </tbody>\n",
       "</table>\n",
       "</div>"
      ],
      "text/plain": [
       "                                                                                                                                                                                                                                                                                                                                                                                                                                                                                                                                                                                                                    Description  \\\n",
       "0  Stock market illiterate? After this course, not anymore! India has a financial literacy problem. We have been conditioned to invest poorly in schemes that do not help your money grow, while inflation increases prices of everything around us. This series tries to educate you on the stock market and how to understand stock market terminologies, giving you ways to invest your money smartly, and grow your wealth, no matter how small it is. Stock market is not some black hole that your throw money into and lose it forever, With informed decision-making, you can grow your investment,andreduce your risk.   \n",
       "1                                                                                                                                                                                                                                                                                                                                                                                                                                                                                                                                                                                                            My name is rishabh   \n",
       "\n",
       "   column_length  words_count  \n",
       "0            604           99  \n",
       "1             18            4  "
      ]
     },
     "execution_count": 88,
     "metadata": {},
     "output_type": "execute_result"
    }
   ],
   "source": [
    "data3"
   ]
  },
  {
   "cell_type": "markdown",
   "id": "b60cd43f-60f1-4975-af9c-16735e53c73a",
   "metadata": {},
   "source": [
    "#### Gives The median ,max,sum of the  column-Key4 from dataset data2"
   ]
  },
  {
   "cell_type": "code",
   "execution_count": 96,
   "id": "1ee29180-c87c-4561-b405-69bbc4c897a5",
   "metadata": {},
   "outputs": [
    {
     "name": "stdout",
     "output_type": "stream",
     "text": [
      "4.0\n",
      "13\n",
      "8\n"
     ]
    }
   ],
   "source": [
    "a=data2['key4'].median()\n",
    "b=data2['key4'].sum()\n",
    "c=data2['key4'].max()\n",
    "\n",
    "print(a)\n",
    "print(b)\n",
    "print(c)"
   ]
  },
  {
   "cell_type": "markdown",
   "id": "e3fb40a9-acd1-4937-8cfb-b4d5f6792fa5",
   "metadata": {},
   "source": [
    "#### Window Function\n",
    "##### 1.Rolling Helps to go from data to another\n",
    "##### 2.Window =1 means taking 1 data at a time if window=2 then it takes two data at a time the one and the next one"
   ]
  },
  {
   "cell_type": "code",
   "execution_count": 98,
   "id": "536db956-df1a-4fad-a91d-b749fdbabfdc",
   "metadata": {},
   "outputs": [
    {
     "data": {
      "text/html": [
       "<div>\n",
       "<style scoped>\n",
       "    .dataframe tbody tr th:only-of-type {\n",
       "        vertical-align: middle;\n",
       "    }\n",
       "\n",
       "    .dataframe tbody tr th {\n",
       "        vertical-align: top;\n",
       "    }\n",
       "\n",
       "    .dataframe thead th {\n",
       "        text-align: right;\n",
       "    }\n",
       "</style>\n",
       "<table border=\"1\" class=\"dataframe\">\n",
       "  <thead>\n",
       "    <tr style=\"text-align: right;\">\n",
       "      <th></th>\n",
       "      <th>key1</th>\n",
       "      <th>key4</th>\n",
       "    </tr>\n",
       "  </thead>\n",
       "  <tbody>\n",
       "    <tr>\n",
       "      <th>1</th>\n",
       "      <td>8</td>\n",
       "      <td>1</td>\n",
       "    </tr>\n",
       "    <tr>\n",
       "      <th>0</th>\n",
       "      <td>1</td>\n",
       "      <td>4</td>\n",
       "    </tr>\n",
       "    <tr>\n",
       "      <th>2</th>\n",
       "      <td>9</td>\n",
       "      <td>8</td>\n",
       "    </tr>\n",
       "  </tbody>\n",
       "</table>\n",
       "</div>"
      ],
      "text/plain": [
       "   key1  key4\n",
       "1     8     1\n",
       "0     1     4\n",
       "2     9     8"
      ]
     },
     "execution_count": 98,
     "metadata": {},
     "output_type": "execute_result"
    }
   ],
   "source": [
    "data2"
   ]
  },
  {
   "cell_type": "code",
   "execution_count": 104,
   "id": "67b34685-fc1d-4ea1-80f0-d57bd15d9c64",
   "metadata": {},
   "outputs": [
    {
     "data": {
      "text/html": [
       "<div>\n",
       "<style scoped>\n",
       "    .dataframe tbody tr th:only-of-type {\n",
       "        vertical-align: middle;\n",
       "    }\n",
       "\n",
       "    .dataframe tbody tr th {\n",
       "        vertical-align: top;\n",
       "    }\n",
       "\n",
       "    .dataframe thead th {\n",
       "        text-align: right;\n",
       "    }\n",
       "</style>\n",
       "<table border=\"1\" class=\"dataframe\">\n",
       "  <thead>\n",
       "    <tr style=\"text-align: right;\">\n",
       "      <th></th>\n",
       "      <th>key1</th>\n",
       "      <th>key4</th>\n",
       "    </tr>\n",
       "  </thead>\n",
       "  <tbody>\n",
       "    <tr>\n",
       "      <th>1</th>\n",
       "      <td>8.0</td>\n",
       "      <td>1.0</td>\n",
       "    </tr>\n",
       "    <tr>\n",
       "      <th>0</th>\n",
       "      <td>1.0</td>\n",
       "      <td>4.0</td>\n",
       "    </tr>\n",
       "    <tr>\n",
       "      <th>2</th>\n",
       "      <td>9.0</td>\n",
       "      <td>8.0</td>\n",
       "    </tr>\n",
       "  </tbody>\n",
       "</table>\n",
       "</div>"
      ],
      "text/plain": [
       "   key1  key4\n",
       "1   8.0   1.0\n",
       "0   1.0   4.0\n",
       "2   9.0   8.0"
      ]
     },
     "execution_count": 104,
     "metadata": {},
     "output_type": "execute_result"
    }
   ],
   "source": [
    "data2.rolling(window=1).mean() "
   ]
  },
  {
   "cell_type": "code",
   "execution_count": 108,
   "id": "5453dbb2-d7b2-4108-9cdb-79920290d6d0",
   "metadata": {},
   "outputs": [
    {
     "data": {
      "text/html": [
       "<div>\n",
       "<style scoped>\n",
       "    .dataframe tbody tr th:only-of-type {\n",
       "        vertical-align: middle;\n",
       "    }\n",
       "\n",
       "    .dataframe tbody tr th {\n",
       "        vertical-align: top;\n",
       "    }\n",
       "\n",
       "    .dataframe thead th {\n",
       "        text-align: right;\n",
       "    }\n",
       "</style>\n",
       "<table border=\"1\" class=\"dataframe\">\n",
       "  <thead>\n",
       "    <tr style=\"text-align: right;\">\n",
       "      <th></th>\n",
       "      <th>key1</th>\n",
       "      <th>key4</th>\n",
       "    </tr>\n",
       "  </thead>\n",
       "  <tbody>\n",
       "    <tr>\n",
       "      <th>1</th>\n",
       "      <td>NaN</td>\n",
       "      <td>NaN</td>\n",
       "    </tr>\n",
       "    <tr>\n",
       "      <th>0</th>\n",
       "      <td>9.0</td>\n",
       "      <td>5.0</td>\n",
       "    </tr>\n",
       "    <tr>\n",
       "      <th>2</th>\n",
       "      <td>10.0</td>\n",
       "      <td>12.0</td>\n",
       "    </tr>\n",
       "  </tbody>\n",
       "</table>\n",
       "</div>"
      ],
      "text/plain": [
       "   key1  key4\n",
       "1   NaN   NaN\n",
       "0   9.0   5.0\n",
       "2  10.0  12.0"
      ]
     },
     "execution_count": 108,
     "metadata": {},
     "output_type": "execute_result"
    }
   ],
   "source": [
    "data2.rolling(window=2).sum()   #The first is Nan because there is no data before 1 so it cant take two data "
   ]
  },
  {
   "cell_type": "markdown",
   "id": "8b6e0deb-2044-43d4-bb94-4b9182a13d15",
   "metadata": {},
   "source": [
    "#### Cummative sum"
   ]
  },
  {
   "cell_type": "code",
   "execution_count": 109,
   "id": "9609b5a1-beef-4326-af20-c216a7901cee",
   "metadata": {},
   "outputs": [
    {
     "data": {
      "text/html": [
       "<div>\n",
       "<style scoped>\n",
       "    .dataframe tbody tr th:only-of-type {\n",
       "        vertical-align: middle;\n",
       "    }\n",
       "\n",
       "    .dataframe tbody tr th {\n",
       "        vertical-align: top;\n",
       "    }\n",
       "\n",
       "    .dataframe thead th {\n",
       "        text-align: right;\n",
       "    }\n",
       "</style>\n",
       "<table border=\"1\" class=\"dataframe\">\n",
       "  <thead>\n",
       "    <tr style=\"text-align: right;\">\n",
       "      <th></th>\n",
       "      <th>key1</th>\n",
       "      <th>key4</th>\n",
       "    </tr>\n",
       "  </thead>\n",
       "  <tbody>\n",
       "    <tr>\n",
       "      <th>1</th>\n",
       "      <td>8</td>\n",
       "      <td>1</td>\n",
       "    </tr>\n",
       "    <tr>\n",
       "      <th>0</th>\n",
       "      <td>9</td>\n",
       "      <td>5</td>\n",
       "    </tr>\n",
       "    <tr>\n",
       "      <th>2</th>\n",
       "      <td>18</td>\n",
       "      <td>13</td>\n",
       "    </tr>\n",
       "  </tbody>\n",
       "</table>\n",
       "</div>"
      ],
      "text/plain": [
       "   key1  key4\n",
       "1     8     1\n",
       "0     9     5\n",
       "2    18    13"
      ]
     },
     "execution_count": 109,
     "metadata": {},
     "output_type": "execute_result"
    }
   ],
   "source": [
    "data2.cumsum()  #combine sum till the present index."
   ]
  },
  {
   "cell_type": "markdown",
   "id": "69cd431b-ffdf-426d-ae80-84543fa0c8e3",
   "metadata": {},
   "source": [
    "#### Date Functionality and Creating datafram of dates"
   ]
  },
  {
   "cell_type": "code",
   "execution_count": 129,
   "id": "1a966f03-0b4e-44c7-8964-f387e86ad499",
   "metadata": {},
   "outputs": [],
   "source": [
    "\n",
    "time=pd.date_range(start='2022-1-24',end='2022-7-25')"
   ]
  },
  {
   "cell_type": "code",
   "execution_count": 131,
   "id": "90b41611-2df1-46a0-a502-9fce97a31f33",
   "metadata": {},
   "outputs": [
    {
     "data": {
      "text/html": [
       "<div>\n",
       "<style scoped>\n",
       "    .dataframe tbody tr th:only-of-type {\n",
       "        vertical-align: middle;\n",
       "    }\n",
       "\n",
       "    .dataframe tbody tr th {\n",
       "        vertical-align: top;\n",
       "    }\n",
       "\n",
       "    .dataframe thead th {\n",
       "        text-align: right;\n",
       "    }\n",
       "</style>\n",
       "<table border=\"1\" class=\"dataframe\">\n",
       "  <thead>\n",
       "    <tr style=\"text-align: right;\">\n",
       "      <th></th>\n",
       "      <th>Dates</th>\n",
       "    </tr>\n",
       "  </thead>\n",
       "  <tbody>\n",
       "    <tr>\n",
       "      <th>0</th>\n",
       "      <td>2022-01-24</td>\n",
       "    </tr>\n",
       "    <tr>\n",
       "      <th>1</th>\n",
       "      <td>2022-01-25</td>\n",
       "    </tr>\n",
       "    <tr>\n",
       "      <th>2</th>\n",
       "      <td>2022-01-26</td>\n",
       "    </tr>\n",
       "    <tr>\n",
       "      <th>3</th>\n",
       "      <td>2022-01-27</td>\n",
       "    </tr>\n",
       "    <tr>\n",
       "      <th>4</th>\n",
       "      <td>2022-01-28</td>\n",
       "    </tr>\n",
       "    <tr>\n",
       "      <th>...</th>\n",
       "      <td>...</td>\n",
       "    </tr>\n",
       "    <tr>\n",
       "      <th>178</th>\n",
       "      <td>2022-07-21</td>\n",
       "    </tr>\n",
       "    <tr>\n",
       "      <th>179</th>\n",
       "      <td>2022-07-22</td>\n",
       "    </tr>\n",
       "    <tr>\n",
       "      <th>180</th>\n",
       "      <td>2022-07-23</td>\n",
       "    </tr>\n",
       "    <tr>\n",
       "      <th>181</th>\n",
       "      <td>2022-07-24</td>\n",
       "    </tr>\n",
       "    <tr>\n",
       "      <th>182</th>\n",
       "      <td>2022-07-25</td>\n",
       "    </tr>\n",
       "  </tbody>\n",
       "</table>\n",
       "<p>183 rows × 1 columns</p>\n",
       "</div>"
      ],
      "text/plain": [
       "         Dates\n",
       "0   2022-01-24\n",
       "1   2022-01-25\n",
       "2   2022-01-26\n",
       "3   2022-01-27\n",
       "4   2022-01-28\n",
       "..         ...\n",
       "178 2022-07-21\n",
       "179 2022-07-22\n",
       "180 2022-07-23\n",
       "181 2022-07-24\n",
       "182 2022-07-25\n",
       "\n",
       "[183 rows x 1 columns]"
      ]
     },
     "execution_count": 131,
     "metadata": {},
     "output_type": "execute_result"
    }
   ],
   "source": [
    "pd.DataFrame({\"Dates\":time})"
   ]
  },
  {
   "cell_type": "code",
   "execution_count": 145,
   "id": "3455c263-3aba-431b-ac64-9ce67887c195",
   "metadata": {},
   "outputs": [],
   "source": [
    "d0=pd.DataFrame({'Particular_dates':['2022-07-23','2022-07-24','2022-07-25']}) #creartes dataframe whose type is object and can be analysised"
   ]
  },
  {
   "cell_type": "code",
   "execution_count": 146,
   "id": "a4ee0a93-0959-4a62-b5e7-318edb7d74dc",
   "metadata": {},
   "outputs": [
    {
     "data": {
      "text/plain": [
       "Particular_dates    object\n",
       "dtype: object"
      ]
     },
     "execution_count": 146,
     "metadata": {},
     "output_type": "execute_result"
    }
   ],
   "source": [
    "d0.dtypes"
   ]
  },
  {
   "cell_type": "markdown",
   "id": "85e5ab6e-8cef-456a-a510-40f74b223c5c",
   "metadata": {},
   "source": [
    "##### creates updates column whose type is datetime and we acn thus extract info from it"
   ]
  },
  {
   "cell_type": "code",
   "execution_count": 148,
   "id": "c4125cc9-0035-49fb-8e15-98f031032f58",
   "metadata": {},
   "outputs": [],
   "source": [
    "d0['updates']=pd.to_datetime(d0['Particular_dates']) "
   ]
  },
  {
   "cell_type": "code",
   "execution_count": 150,
   "id": "dfc1cca6-ceb7-469a-9cc1-6e1d705a3f77",
   "metadata": {},
   "outputs": [
    {
     "data": {
      "text/plain": [
       "Particular_dates            object\n",
       "updates             datetime64[ns]\n",
       "dtype: object"
      ]
     },
     "execution_count": 150,
     "metadata": {},
     "output_type": "execute_result"
    }
   ],
   "source": [
    "d0.dtypes"
   ]
  },
  {
   "cell_type": "code",
   "execution_count": 156,
   "id": "dab350a6-8112-4d2b-a3c3-5f96e9b0ae96",
   "metadata": {},
   "outputs": [],
   "source": [
    "d0['year']=d0['updates'].dt.year #createsnew column and stores the year only"
   ]
  },
  {
   "cell_type": "code",
   "execution_count": 155,
   "id": "01dd7230-e16e-4f29-bbc8-31b393b83f75",
   "metadata": {},
   "outputs": [
    {
     "data": {
      "text/html": [
       "<div>\n",
       "<style scoped>\n",
       "    .dataframe tbody tr th:only-of-type {\n",
       "        vertical-align: middle;\n",
       "    }\n",
       "\n",
       "    .dataframe tbody tr th {\n",
       "        vertical-align: top;\n",
       "    }\n",
       "\n",
       "    .dataframe thead th {\n",
       "        text-align: right;\n",
       "    }\n",
       "</style>\n",
       "<table border=\"1\" class=\"dataframe\">\n",
       "  <thead>\n",
       "    <tr style=\"text-align: right;\">\n",
       "      <th></th>\n",
       "      <th>Particular_dates</th>\n",
       "      <th>updates</th>\n",
       "      <th>year</th>\n",
       "    </tr>\n",
       "  </thead>\n",
       "  <tbody>\n",
       "    <tr>\n",
       "      <th>0</th>\n",
       "      <td>2022-07-23</td>\n",
       "      <td>2022-07-23</td>\n",
       "      <td>7</td>\n",
       "    </tr>\n",
       "    <tr>\n",
       "      <th>1</th>\n",
       "      <td>2022-07-24</td>\n",
       "      <td>2022-07-24</td>\n",
       "      <td>7</td>\n",
       "    </tr>\n",
       "    <tr>\n",
       "      <th>2</th>\n",
       "      <td>2022-07-25</td>\n",
       "      <td>2022-07-25</td>\n",
       "      <td>7</td>\n",
       "    </tr>\n",
       "  </tbody>\n",
       "</table>\n",
       "</div>"
      ],
      "text/plain": [
       "  Particular_dates    updates  year\n",
       "0       2022-07-23 2022-07-23     7\n",
       "1       2022-07-24 2022-07-24     7\n",
       "2       2022-07-25 2022-07-25     7"
      ]
     },
     "execution_count": 155,
     "metadata": {},
     "output_type": "execute_result"
    }
   ],
   "source": [
    "d0"
   ]
  },
  {
   "cell_type": "code",
   "execution_count": 157,
   "id": "31d2b99a-c785-4eb9-85ac-cdac02138e8f",
   "metadata": {},
   "outputs": [],
   "source": [
    "d0['month']=d0['updates'].dt.month"
   ]
  },
  {
   "cell_type": "code",
   "execution_count": 159,
   "id": "bda21375-835f-4ede-8822-d9b325f002c7",
   "metadata": {},
   "outputs": [
    {
     "data": {
      "text/html": [
       "<div>\n",
       "<style scoped>\n",
       "    .dataframe tbody tr th:only-of-type {\n",
       "        vertical-align: middle;\n",
       "    }\n",
       "\n",
       "    .dataframe tbody tr th {\n",
       "        vertical-align: top;\n",
       "    }\n",
       "\n",
       "    .dataframe thead th {\n",
       "        text-align: right;\n",
       "    }\n",
       "</style>\n",
       "<table border=\"1\" class=\"dataframe\">\n",
       "  <thead>\n",
       "    <tr style=\"text-align: right;\">\n",
       "      <th></th>\n",
       "      <th>Particular_dates</th>\n",
       "      <th>updates</th>\n",
       "      <th>year</th>\n",
       "      <th>month</th>\n",
       "    </tr>\n",
       "  </thead>\n",
       "  <tbody>\n",
       "    <tr>\n",
       "      <th>0</th>\n",
       "      <td>2022-07-23</td>\n",
       "      <td>2022-07-23</td>\n",
       "      <td>2022</td>\n",
       "      <td>7</td>\n",
       "    </tr>\n",
       "    <tr>\n",
       "      <th>1</th>\n",
       "      <td>2022-07-24</td>\n",
       "      <td>2022-07-24</td>\n",
       "      <td>2022</td>\n",
       "      <td>7</td>\n",
       "    </tr>\n",
       "    <tr>\n",
       "      <th>2</th>\n",
       "      <td>2022-07-25</td>\n",
       "      <td>2022-07-25</td>\n",
       "      <td>2022</td>\n",
       "      <td>7</td>\n",
       "    </tr>\n",
       "  </tbody>\n",
       "</table>\n",
       "</div>"
      ],
      "text/plain": [
       "  Particular_dates    updates  year  month\n",
       "0       2022-07-23 2022-07-23  2022      7\n",
       "1       2022-07-24 2022-07-24  2022      7\n",
       "2       2022-07-25 2022-07-25  2022      7"
      ]
     },
     "execution_count": 159,
     "metadata": {},
     "output_type": "execute_result"
    }
   ],
   "source": [
    "d0"
   ]
  },
  {
   "cell_type": "code",
   "execution_count": 160,
   "id": "836bc007-724b-487a-8981-026789c08bfe",
   "metadata": {},
   "outputs": [],
   "source": [
    "d0['date']=d0['updates'].dt.day"
   ]
  },
  {
   "cell_type": "code",
   "execution_count": 161,
   "id": "b839d55d-8e12-4545-ab41-bfb59fafac95",
   "metadata": {},
   "outputs": [
    {
     "data": {
      "text/html": [
       "<div>\n",
       "<style scoped>\n",
       "    .dataframe tbody tr th:only-of-type {\n",
       "        vertical-align: middle;\n",
       "    }\n",
       "\n",
       "    .dataframe tbody tr th {\n",
       "        vertical-align: top;\n",
       "    }\n",
       "\n",
       "    .dataframe thead th {\n",
       "        text-align: right;\n",
       "    }\n",
       "</style>\n",
       "<table border=\"1\" class=\"dataframe\">\n",
       "  <thead>\n",
       "    <tr style=\"text-align: right;\">\n",
       "      <th></th>\n",
       "      <th>Particular_dates</th>\n",
       "      <th>updates</th>\n",
       "      <th>year</th>\n",
       "      <th>month</th>\n",
       "      <th>date</th>\n",
       "    </tr>\n",
       "  </thead>\n",
       "  <tbody>\n",
       "    <tr>\n",
       "      <th>0</th>\n",
       "      <td>2022-07-23</td>\n",
       "      <td>2022-07-23</td>\n",
       "      <td>2022</td>\n",
       "      <td>7</td>\n",
       "      <td>23</td>\n",
       "    </tr>\n",
       "    <tr>\n",
       "      <th>1</th>\n",
       "      <td>2022-07-24</td>\n",
       "      <td>2022-07-24</td>\n",
       "      <td>2022</td>\n",
       "      <td>7</td>\n",
       "      <td>24</td>\n",
       "    </tr>\n",
       "    <tr>\n",
       "      <th>2</th>\n",
       "      <td>2022-07-25</td>\n",
       "      <td>2022-07-25</td>\n",
       "      <td>2022</td>\n",
       "      <td>7</td>\n",
       "      <td>25</td>\n",
       "    </tr>\n",
       "  </tbody>\n",
       "</table>\n",
       "</div>"
      ],
      "text/plain": [
       "  Particular_dates    updates  year  month  date\n",
       "0       2022-07-23 2022-07-23  2022      7    23\n",
       "1       2022-07-24 2022-07-24  2022      7    24\n",
       "2       2022-07-25 2022-07-25  2022      7    25"
      ]
     },
     "execution_count": 161,
     "metadata": {},
     "output_type": "execute_result"
    }
   ],
   "source": [
    "d0"
   ]
  },
  {
   "cell_type": "markdown",
   "id": "9332bb15-f0c7-4b10-bf82-7dba41fda39e",
   "metadata": {},
   "source": [
    "#### Time Delta"
   ]
  },
  {
   "cell_type": "code",
   "execution_count": 178,
   "id": "d32a95c3-d701-4eb7-a590-fc75b6601744",
   "metadata": {},
   "outputs": [],
   "source": [
    "time=pd.Timedelta(days=1,hours=3,minutes=7)"
   ]
  },
  {
   "cell_type": "code",
   "execution_count": 179,
   "id": "80aaf335-b346-455b-b8a2-d937e851938b",
   "metadata": {},
   "outputs": [],
   "source": [
    "day_year_month=pd.to_datetime('2022-07-24')"
   ]
  },
  {
   "cell_type": "code",
   "execution_count": 180,
   "id": "06ac7a9b-b84b-4750-a82f-c0bfffb65459",
   "metadata": {},
   "outputs": [
    {
     "data": {
      "text/plain": [
       "Timestamp('2022-07-25 03:07:00')"
      ]
     },
     "execution_count": 180,
     "metadata": {},
     "output_type": "execute_result"
    }
   ],
   "source": [
    "day_year_month+time"
   ]
  },
  {
   "cell_type": "markdown",
   "id": "44530f91-f6aa-4ae1-bdfa-ac7362d1bf50",
   "metadata": {},
   "source": [
    " #### Panda -Categorical Data"
   ]
  },
  {
   "cell_type": "code",
   "execution_count": 182,
   "id": "0779aaaf-0175-4195-9d25-b7abacff1362",
   "metadata": {},
   "outputs": [],
   "source": [
    "data67=['Rishabh','Nupur','Rati','Kite']"
   ]
  },
  {
   "cell_type": "code",
   "execution_count": 183,
   "id": "b451f1a5-9673-42f3-8775-5bee9f7fe889",
   "metadata": {},
   "outputs": [],
   "source": [
    "cat=pd.Categorical(data67)"
   ]
  },
  {
   "cell_type": "code",
   "execution_count": 186,
   "id": "37732718-c433-426e-93f0-c68f75b0150d",
   "metadata": {},
   "outputs": [
    {
     "data": {
      "text/plain": [
       "Kite       1\n",
       "Nupur      1\n",
       "Rati       1\n",
       "Rishabh    1\n",
       "dtype: int64"
      ]
     },
     "execution_count": 186,
     "metadata": {},
     "output_type": "execute_result"
    }
   ],
   "source": [
    "cat.value_counts()"
   ]
  },
  {
   "cell_type": "markdown",
   "id": "64fb38cf-4f60-4a23-b5c7-17ed76f12388",
   "metadata": {},
   "source": [
    "#### Panda - Visualitation"
   ]
  },
  {
   "cell_type": "code",
   "execution_count": 195,
   "id": "88f2c571-ba4a-44ad-b1c1-ddb9572ad4ac",
   "metadata": {},
   "outputs": [],
   "source": [
    "df=pd.Series([1,2,4,16,32,64,128,256,512,1025])"
   ]
  },
  {
   "cell_type": "code",
   "execution_count": 196,
   "id": "5c90c965-611f-4f40-8df0-ee89edea4472",
   "metadata": {},
   "outputs": [
    {
     "data": {
      "text/plain": [
       "0       1\n",
       "1       2\n",
       "2       4\n",
       "3      16\n",
       "4      32\n",
       "5      64\n",
       "6     128\n",
       "7     256\n",
       "8     512\n",
       "9    1025\n",
       "dtype: int64"
      ]
     },
     "execution_count": 196,
     "metadata": {},
     "output_type": "execute_result"
    }
   ],
   "source": [
    "df"
   ]
  },
  {
   "cell_type": "code",
   "execution_count": 197,
   "id": "5904f94d-4f1c-4b6e-88da-06985fa2592b",
   "metadata": {},
   "outputs": [
    {
     "data": {
      "text/plain": [
       "<AxesSubplot: >"
      ]
     },
     "execution_count": 197,
     "metadata": {},
     "output_type": "execute_result"
    },
    {
     "data": {
      "image/png": "[encoded data removed]",
      "text/plain": [
       "<Figure size 640x480 with 1 Axes>"
      ]
     },
     "metadata": {},
     "output_type": "display_data"
    }
   ],
   "source": [
    "df.plot() #indexes are availiable on x axis and value are on y axis"
   ]
  },
  {
   "cell_type": "code",
   "execution_count": null,
   "id": "6204310b-1406-4cbc-bcd6-bb12f5d8ae53",
   "metadata": {},
   "outputs": [],
   "source": []
  }
 ],
 "metadata": {
  "kernelspec": {
   "display_name": "Python 3 (ipykernel)",
   "language": "python",
   "name": "python3"
  },
  "language_info": {
   "codemirror_mode": {
    "name": "ipython",
    "version": 3
   },
   "file_extension": ".py",
   "mimetype": "text/x-python",
   "name": "python",
   "nbconvert_exporter": "python",
   "pygments_lexer": "ipython3",
   "version": "3.10.8"
  }
 },
 "nbformat": 4,
 "nbformat_minor": 5
}
